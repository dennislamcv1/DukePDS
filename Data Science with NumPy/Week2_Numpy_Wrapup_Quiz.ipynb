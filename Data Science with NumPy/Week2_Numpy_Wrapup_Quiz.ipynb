{
 "cells": [
  {
   "cell_type": "markdown",
   "metadata": {},
   "source": [
    "# Week 2 Numpy Re-cap Exercises\n",
    "\n",
    "**Note**: \n",
    "\n",
    "> This exercise has been written out in something called a Jupyter Notebook. We'll discuss Jupyter Notebooks in more detail later in the course—they are very a powerful tool for data science communication!—but for the time being, the notebook is just a convenient way for us to write out the exercise. You don't need to *do* anything with the notebook except read its contents—just use write your Python code in a regular `.py` file.\n",
    "## Income Inequality\n",
    "\n",
    "In these exercises, we will return to the vector with estimates of the total income (from all sources) of a random sample of American households collected by the U.S. Census Bureau between 2015 and 2019 as part of the American Community Survey (ACS).\n",
    "\n",
    "(As before, apologies to people who are not from the United States -- most of our users come from the US, so picking the United States seemed like the least bad option. However, if you are interested in completing these same exercises for your own country, head over to [IPUMS International](https://international.ipums.org/international/) to see if analogous income data has been made available by your country's Census Bureau. Simply click on the \"Browse Data\" button, then \"Select Sample\" in the top left to find the most recent data available for your country. Then see if you can find income data under the \"Select Harmonized Variables\" \"PERSON\" or \"HOUSEHOLD\" drop-down menus. Note that income data is hard to collect, so it's probably not available for most countries.)\n",
    "\n",
    "In particular, we are going to use this data to measure household income inequality in the United States, then analyze how that income inequality might change under a range of different tax policies.\n",
    "\n",
    "### Exercise 1\n",
    "\n",
    "Use the command `np.loadtxt(\"data/us_household_incomes.txt\")` to load the vector of incomes, and make sure to assign the result of that command to a new variable\n",
    "\n",
    "\n",
    "### Exercise 2\n",
    "\n",
    "In a previous reading, we saw that plotting a histogram of US household incomes was difficult because must of the plot was taken up by very high earners. Now that we know how to subset our data, create a histogram of US household incomes that includes only households making less than $500,000. For these households—the non-millionaires—do we see a more uniform distribution of incomes? Or is there still a significant [right-skew / positive-skew](https://en.wikipedia.org/wiki/Skewness) (most people are on the left of the distribution, but there are more extreme values in the right tail) in the income distribution?\n",
    "\n",
    "In other words, is the skewness in the US income distribution driven by extreme high earners, or is it evident at all income levels?\n",
    "\n",
    "**Note:** The x-axis' will range will be determined by the data, with the x-axis being made long enough to include ALL data (but no longer). As a result, there *are* observations across the x-axis, even if there are too few for the bar to be visible.\n",
    "\n",
    "**Note:** Be aware that this data only measures *income*—e.g., wages, salaries, etc. As a result, it actually massively underestimates incomes at the top of the United States income distribution because most of the income for high earners comes in the form of capital gains and investment appreciation which are not included here.\n",
    "\n",
    "### Exercise 3\n",
    "\n",
    "The US poverty line is *about* 20,000 dollars a year. What share of households in these data fall below the US poverty line? (By \"share\" I mean the proportion, a value between 0 and 1). Round your answer to 4 decimal places. \n",
    "\n",
    "(I say \"about\" because the actual poverty line for household income depends on the number of people in the household, which we have not included in these data.)\n",
    "## Gini Index\n",
    "\n",
    "A standard measure of inequality is the [Gini Index / Gini Coefficient](https://en.wikipedia.org/wiki/Gini_coefficient). The measure takes on a value of 0 when everyone in a population has the same allocation of some resource or property, and a value of 1 when all the resource in population accrues to a single person. It is commonly used to measure income and wealth inequality, although it is also worth noting that it has been used in many other contexts, [including neuroscience.](https://neuroplausible.com/gini) \n",
    "\n",
    "For discrete data, the definition of the Gini Index is given below:\n",
    "\n",
    "$$Gini\\ Index = \\frac{2 \\sum_{i=1}^n i y_i}{n \\sum_{i=1}^n y_i} -\\frac{n+1}{n}$$\n",
    "\n",
    "Where $i$ is each observations' rank ordering from those with the fewest resources to those with the most, and $y_i$ is the resources of observation $i$. \n",
    "\n",
    "In an upcoming exercise, you will be asked to code this up yourself in a few different ways, but as that is not the focus of *this* exercise, you can just use the `gini()` function from the `ineqpy` package. You can install it with `pip install ineqpy` (it's a little too small of a package to appear in the conda repositories) and import with `from ineqpy.inequality import gini`.\n",
    "### Exercise 4\n",
    "\n",
    "Using the `gini()` function above, calculate the Gini Index of income inequality in the US.\n",
    "\n",
    "### Exercise 5\n",
    "\n",
    "Go compare your estimate to that of [other countries here.](https://www.indexmundi.com/facts/indicators/SI.POV.GINI/rankings) (Note: in this table, estimated Gini values have been multiplied 100. In addition, as a result of sampling variation, income binning, differences in the exact methods used to calculate income, year of data, availability of data on top incomes, etc., your Gini for the US will be somewhat different from the Gini for the US in this table. It *should* be close to the data from the [US Census Bureau](https://www.statista.com/statistics/219643/gini-coefficient-for-us-individuals-families-and-households/)). How does the US compare to other countries? Is that what you expected? \n",
    "   - **Note:** The Gini Index of income is only one metric of inequality! Results would be very different if we were to calculate, for example, the ratio of the income of the top 0.1% of earners to the income of the lowest-earning 10% of the population, or if we calculated this metric using wealth instead of income!\n",
    "\n",
    "\n",
    "### Exercise 6\n",
    "\n",
    "\n",
    "Congratulations! You have been hired by the President of the United States to advise them on their efforts to reduce income inequality. The first set of policies that the president has asked you to evaluate is whether income inequality would be decreased more under:\n",
    "\n",
    "- `Policy A`: giving every household that makes less than 40,000 dollars a check for 5,000 dollars, or \n",
    "- `Policy B`: giving every household that makes less than 30,000 dollars a check for 7,000 dollars. \n",
    "\n",
    "What is the new Gini under Policy A? Round your answer to 4 decimals.\n",
    "What is the new Gini under Policy B? Round your answer to 4 decimals.\n",
    "\n",
    "Which has lowered inequality more?\n",
    "\n",
    "- **Note:** Vectors are mutable (like lists), so you should create a clean copy of your income data with the `.copy()` method (e.g. `experiment1 = income_vector.copy()`) before starting to make changes during each exercise. We'll talk a lot more about vector mutability in a future reading, but so long as you use `.copy()` you will be fine here!\n",
    "\n",
    "### Exercise 7\n",
    "\n",
    "Now the president would like to know whether income inequality can be reduced more the policy you decided was preferable above, *or* through `Policy C`: applying a tax of 5% to households making more than 250,000 dollars and using the money to pay down the National Debt. \n",
    "\n",
    "(In other words, `Policy C` would reduce the income of any households earning more than 250,000 dollars by 5%.)\n",
    "\n",
    "Calculate the Gini Index resulting from the President's tax proposal? Round your answer to 4 decimals.\n",
    "\n",
    "### Exercise 8\n",
    "\n",
    "Now suppose we were thinking about applying a 5% tax to people making more than 250,000 dollars and *evenly distributed that tax revenue* to households earning less than 30,000 dollars. Call this `Policy D`. \n",
    "\n",
    "To estimate the effective such a policy on inequality, first calculate the total amount of money that would be generated by this tax if the households in this data were all households in the US. Round your answer to two decimal places.\n",
    "  \n",
    "**Note:** because these data are just a *sample* of households in the US, the quantity you calculate isn't the actual revenue such a tax would generate in the real world; if you want to calculate the real amount that would be raised, you can multiply the quantity you calculate by 137 (our data include about 1 out of every 137 households in the US). Don't do that multiplication to generate your answer here—as we'll see below that isn't necessary for the analysis we want to undertake.\n",
    "\n",
    "### Exercise 9\n",
    "\n",
    "Now calculate the total number of households earning less than 30,000 dollars in these data, and divide the revenue generated by the tax by the number of households earning less than 30,000 dollars. Round your answer to one decimal place.\n",
    "\n",
    "**Note:** unlike in Exercise 8, the quantity you estimate here *is* a good estimate of the amount of money that would be available for each household if we imposed this tax on the real world. Why? Because both the quantity you estimated in Question 8 *and* the number of households you calculate here represent 1/137th the actual, real world quantities in the United States. So when you divide one by the other, you get the true ratio -- the fact that both are 1/137th the real quality cancels out!\n",
    "\n",
    "### Exercise 10\n",
    "\n",
    "Finally, update the incomes in our data *as if* we had enacted this policy -- reduce the incomes of households earning more than 250,000 dollars by 5% and increase the incomes of households earning less than 30,000 dollars by the quantity you estimated in Question 8. \n",
    "\n",
    "What is the resulting Gini Index of `Policy D`? Round your answer to 4 decimal places.\n",
    "\n",
    "### Exercise 11\n",
    "\n",
    "Now suppose we also wanted to explore a slightly different intervention: `Policy E`. In `Policy E`, we would distribute the revenue generated with the same tax, but this time we would distribute it evenly to all households earning less than 40,000 dollars (instead of less than 30,000 dollars). \n",
    "\n",
    "What is the resulting Gini Index of `Policy E`? Round your answer to 4 decimal places.\n",
    "\n",
    "### Exercise 12\n",
    "\n",
    "\n",
    "If the President asked you whether you could better reduce inequality (as measured by the Gini Index) by re-distributing the tax revenue from taxing households earning more than 250,000 dollars even to households earning less than 30,000 dollars (`Policy D`) or households earning less than 40,000 dollars (`Policy E`), which would you recommend?\n",
    "### Data Citation\n",
    "\n",
    "The ACS data used in this exercise are a subsample of the IPUMS USA data available from [usa.ipums.org.](usa.ipums.org)\n",
    "\n",
    "Please cite use of the data as follows: Steven Ruggles, Sarah Flood, Sophia Foster, Ronald Goeken, Jose Pacas, Megan Schouweiler and Matthew Sobek. IPUMS USA: Version 11.0 [dataset]. Minneapolis, MN: IPUMS, 2021. https://doi.org/10.18128/D010.V11.0\n",
    "\n",
    "These data are intended for this exercise only. Individuals analyzing the data for other purposes must submit a separate data extract request directly via IPUMS USA.\n",
    "\n",
    "Individuals are not to redistribute the data without permission. Contact ipums@umn.edu for redistribution requests."
   ]
  },
  {
   "cell_type": "code",
   "execution_count": 1,
   "metadata": {},
   "outputs": [],
   "source": [
    "import numpy as np\n",
    "import matplotlib.pyplot as plt\n",
    "from ineqpy.inequality import gini\n"
   ]
  },
  {
   "cell_type": "code",
   "execution_count": 2,
   "metadata": {},
   "outputs": [],
   "source": [
    "# Exercise 1\n",
    "df = np.loadtxt(\"us_household_incomes.txt\")"
   ]
  },
  {
   "cell_type": "code",
   "execution_count": 3,
   "metadata": {},
   "outputs": [
    {
     "data": {
      "text/plain": [
       "array([ 53308., 102050., 192994., ..., 407460.,  19856., 154754.])"
      ]
     },
     "execution_count": 3,
     "metadata": {},
     "output_type": "execute_result"
    }
   ],
   "source": [
    "df"
   ]
  },
  {
   "cell_type": "code",
   "execution_count": 4,
   "metadata": {},
   "outputs": [
    {
     "data": {
      "text/plain": [
       "(933695,)"
      ]
     },
     "execution_count": 4,
     "metadata": {},
     "output_type": "execute_result"
    }
   ],
   "source": [
    "df.shape"
   ]
  },
  {
   "cell_type": "code",
   "execution_count": 5,
   "metadata": {},
   "outputs": [
    {
     "data": {
      "image/png": "[encoded data removed]",
      "text/plain": [
       "<Figure size 1000x600 with 1 Axes>"
      ]
     },
     "metadata": {},
     "output_type": "display_data"
    }
   ],
   "source": [
    "# Exercise 2\n",
    "# Filter to include only households with income less than $500,000\n",
    "filtered_incomes = df[df < 500000]\n",
    "\n",
    "# Create the histogram\n",
    "plt.figure(figsize=(10, 6))\n",
    "plt.hist(filtered_incomes, bins=50, color='steelblue', edgecolor='black')\n",
    "plt.title('US Household Incomes (Less than $500,000)')\n",
    "plt.xlabel('Income ($)')\n",
    "plt.ylabel('Frequency')\n",
    "plt.grid(alpha=0.3)\n",
    "plt.tight_layout()"
   ]
  },
  {
   "cell_type": "code",
   "execution_count": 6,
   "metadata": {},
   "outputs": [
    {
     "name": "stdout",
     "output_type": "stream",
     "text": [
      "Share of households below poverty line: 0.1471\n"
     ]
    }
   ],
   "source": [
    "# Exercise 3\n",
    "\n",
    "# Count households below poverty line\n",
    "households_below_poverty = np.sum(df < 20000)\n",
    "\n",
    "# Total number of households\n",
    "total_households = len(df)\n",
    "\n",
    "# Calculate the share (proportion)\n",
    "poverty_share = households_below_poverty / total_households\n",
    "\n",
    "# Round to 4 decimal places\n",
    "poverty_share_rounded = round(poverty_share, 4)\n",
    "\n",
    "print(f\"Share of households below poverty line: {poverty_share_rounded}\")"
   ]
  },
  {
   "cell_type": "code",
   "execution_count": 7,
   "metadata": {},
   "outputs": [
    {
     "name": "stdout",
     "output_type": "stream",
     "text": [
      "Gini coefficient: 0.4811\n"
     ]
    }
   ],
   "source": [
    "# Exercise 4\n",
    "# Calculate Gini coefficient\n",
    "gini_coefficient = gini(df)\n",
    "\n",
    "print(f\"Gini coefficient: {gini_coefficient:.4f}\")"
   ]
  },
  {
   "cell_type": "code",
   "execution_count": 8,
   "metadata": {},
   "outputs": [],
   "source": [
    "# Exercise 5"
   ]
  },
  {
   "cell_type": "code",
   "execution_count": 9,
   "metadata": {},
   "outputs": [],
   "source": [
    "df2 = df.copy()"
   ]
  },
  {
   "cell_type": "code",
   "execution_count": 10,
   "metadata": {},
   "outputs": [
    {
     "name": "stdout",
     "output_type": "stream",
     "text": [
      "Original Gini coefficient: 0.4811\n",
      "Gini coefficient under Policy A: 0.4602\n",
      "Gini coefficient under Policy B: 0.4583\n",
      "Policy B reduces income inequality more.\n"
     ]
    }
   ],
   "source": [
    "# Exercise 6\n",
    "# Calculate original Gini coefficient\n",
    "original_gini = gini(df)\n",
    "\n",
    "# Policy A: +$5,000 for households making less than $40,000\n",
    "df2 = df.copy()\n",
    "df2[df2 < 40000] += 5000\n",
    "gini_policy_A = gini(df2)\n",
    "\n",
    "# Policy B: +$7,000 for households making less than $30,000\n",
    "df3 = df.copy()\n",
    "df3[df3 < 30000] += 7000\n",
    "gini_policy_B = gini(df3)\n",
    "\n",
    "# Round to 4 decimal places\n",
    "gini_policy_A_rounded = round(gini_policy_A, 4)\n",
    "gini_policy_B_rounded = round(gini_policy_B, 4)\n",
    "\n",
    "print(f\"Original Gini coefficient: {original_gini:.4f}\")\n",
    "print(f\"Gini coefficient under Policy A: {gini_policy_A_rounded}\")\n",
    "print(f\"Gini coefficient under Policy B: {gini_policy_B_rounded}\")\n",
    "\n",
    "# Determine which policy reduces inequality more\n",
    "if gini_policy_A < gini_policy_B:\n",
    "    print(\"Policy A reduces income inequality more.\")\n",
    "elif gini_policy_B < gini_policy_A:\n",
    "    print(\"Policy B reduces income inequality more.\")\n",
    "else:\n",
    "    print(\"Both policies reduce income inequality equally.\")"
   ]
  },
  {
   "cell_type": "code",
   "execution_count": 11,
   "metadata": {},
   "outputs": [],
   "source": [
    "# Exercise 7\n",
    "# Policy C: 5% tax on households making more than $250,000\n",
    "df4 = df.copy()\n",
    "df4[df4 > 250000] *= 0.95  # Reduce by 5%\n",
    "gini_policy_C = gini(df4)"
   ]
  },
  {
   "cell_type": "code",
   "execution_count": 12,
   "metadata": {},
   "outputs": [
    {
     "name": "stdout",
     "output_type": "stream",
     "text": [
      "Original Gini coefficient: 0.4811\n",
      "Gini coefficient under Policy A: 0.4602\n",
      "Gini coefficient under Policy B: 0.4583\n",
      "Gini coefficient under Policy C: 0.4756\n",
      "Policy B reduces income inequality the most with a Gini coefficient of 0.4583\n"
     ]
    }
   ],
   "source": [
    "# Round to 4 decimal places\n",
    "gini_policy_A_rounded = round(gini_policy_A, 4)\n",
    "gini_policy_B_rounded = round(gini_policy_B, 4)\n",
    "gini_policy_C_rounded = round(gini_policy_C, 4)\n",
    "\n",
    "print(f\"Original Gini coefficient: {original_gini:.4f}\")\n",
    "print(f\"Gini coefficient under Policy A: {gini_policy_A_rounded}\")\n",
    "print(f\"Gini coefficient under Policy B: {gini_policy_B_rounded}\")\n",
    "print(f\"Gini coefficient under Policy C: {gini_policy_C_rounded}\")\n",
    "\n",
    "# Find the policy with the lowest Gini coefficient\n",
    "policies = {\n",
    "    \"Policy A\": gini_policy_A,\n",
    "    \"Policy B\": gini_policy_B,\n",
    "    \"Policy C\": gini_policy_C\n",
    "}\n",
    "\n",
    "best_policy = min(policies.items(), key=lambda x: x[1])\n",
    "print(f\"{best_policy[0]} reduces income inequality the most with a Gini coefficient of {round(best_policy[1], 4)}\")"
   ]
  },
  {
   "cell_type": "code",
   "execution_count": 13,
   "metadata": {},
   "outputs": [
    {
     "name": "stdout",
     "output_type": "stream",
     "text": [
      "Total tax revenue generated: $929623340.85\n",
      "Each household earning less than $30,000 would receive: $4208.23\n"
     ]
    }
   ],
   "source": [
    "# Exercise 8\n",
    "# Identify households with income > $250,000\n",
    "high_income_households = df[df > 250000]\n",
    "\n",
    "# Calculate total tax revenue (5% of incomes above $250,000)\n",
    "tax_revenue = np.sum(high_income_households * 0.05)\n",
    "\n",
    "# Round to 2 decimal places\n",
    "tax_revenue_rounded = round(tax_revenue, 2)\n",
    "\n",
    "print(f\"Total tax revenue generated: ${tax_revenue_rounded}\")\n",
    "\n",
    "# Count households earning less than $30,000\n",
    "low_income_households_count = np.sum(df < 30000)\n",
    "\n",
    "# Calculate the amount each low-income household would receive\n",
    "if low_income_households_count > 0:\n",
    "    distribution_per_household = tax_revenue / low_income_households_count\n",
    "    print(f\"Each household earning less than $30,000 would receive: ${distribution_per_household:.2f}\")\n",
    "else:\n",
    "    print(\"No households earning less than $30,000 in the dataset.\")"
   ]
  },
  {
   "cell_type": "code",
   "execution_count": 14,
   "metadata": {},
   "outputs": [
    {
     "name": "stdout",
     "output_type": "stream",
     "text": [
      "Number of households earning less than $30,000: 220906\n",
      "Total tax revenue: $929623340.85\n",
      "Amount per low-income household: $4208.2\n"
     ]
    }
   ],
   "source": [
    "# Exercise 9\n",
    "\n",
    "# Identify households with income > $250,000\n",
    "high_income_households = df[df > 250000]\n",
    "\n",
    "# Calculate total tax revenue (5% of incomes above $250,000)\n",
    "tax_revenue = np.sum(high_income_households * 0.05)\n",
    "\n",
    "# Count households earning less than $30,000\n",
    "low_income_count = np.sum(df < 30000)\n",
    "\n",
    "# Calculate amount per low-income household\n",
    "amount_per_household = tax_revenue / low_income_count\n",
    "\n",
    "# Round to 1 decimal place\n",
    "amount_per_household_rounded = round(amount_per_household, 1)\n",
    "\n",
    "print(f\"Number of households earning less than $30,000: {low_income_count}\")\n",
    "print(f\"Total tax revenue: ${tax_revenue:.2f}\")\n",
    "print(f\"Amount per low-income household: ${amount_per_household_rounded}\")"
   ]
  },
  {
   "cell_type": "code",
   "execution_count": 15,
   "metadata": {},
   "outputs": [
    {
     "name": "stdout",
     "output_type": "stream",
     "text": [
      "Original Gini coefficient: 0.4811\n",
      "Gini coefficient under Policy D: 0.4617\n"
     ]
    }
   ],
   "source": [
    "# Exercise 10\n",
    "\n",
    "# Calculate original Gini coefficient\n",
    "original_gini = gini(df)\n",
    "\n",
    "# Identify households with income > $250,000\n",
    "high_income_households = df[df > 250000]\n",
    "\n",
    "# Calculate total tax revenue (5% of incomes above $250,000)\n",
    "tax_revenue = np.sum(high_income_households * 0.05)\n",
    "\n",
    "# Count households earning less than $30,000\n",
    "low_income_count = np.sum(df < 30000)\n",
    "\n",
    "# Calculate amount per low-income household\n",
    "amount_per_household = tax_revenue / low_income_count\n",
    "\n",
    "# Create a copy of the data for Policy D\n",
    "df_policy_D = df.copy()\n",
    "\n",
    "# Apply the 5% tax to high-income households\n",
    "df_policy_D[df_policy_D > 250000] *= 0.95\n",
    "\n",
    "# Distribute the tax revenue to low-income households\n",
    "df_policy_D[df_policy_D < 30000] += amount_per_household\n",
    "\n",
    "# Calculate new Gini coefficient\n",
    "gini_policy_D = gini(df_policy_D)\n",
    "\n",
    "# Round to 4 decimal places\n",
    "gini_policy_D_rounded = round(gini_policy_D, 4)\n",
    "\n",
    "print(f\"Original Gini coefficient: {original_gini:.4f}\")\n",
    "print(f\"Gini coefficient under Policy D: {gini_policy_D_rounded}\")"
   ]
  },
  {
   "cell_type": "code",
   "execution_count": 16,
   "metadata": {},
   "outputs": [],
   "source": [
    "# Exercise 11\n",
    "\n"
   ]
  },
  {
   "cell_type": "code",
   "execution_count": null,
   "metadata": {},
   "outputs": [],
   "source": []
  },
  {
   "cell_type": "code",
   "execution_count": null,
   "metadata": {},
   "outputs": [],
   "source": []
  }
 ],
 "metadata": {
  "interpreter": {
   "hash": "4b1666d24beef1f2cf032edae7ba7886b51d32e24219515f10ba647092308838"
  },
  "kernelspec": {
   "display_name": "Python 3 (ipykernel)",
   "language": "python",
   "name": "python3"
  },
  "language_info": {
   "codemirror_mode": {
    "name": "ipython",
    "version": 3
   },
   "file_extension": ".py",
   "mimetype": "text/x-python",
   "name": "python",
   "nbconvert_exporter": "python",
   "pygments_lexer": "ipython3",
   "version": "3.10.9"
  },
  "vscode": {
   "interpreter": {
    "hash": "718fed28bf9f8c7851519acf2fb923cd655120b36de3b67253eeb0428bd33d2d"
   }
  }
 },
 "nbformat": 4,
 "nbformat_minor": 4
}
