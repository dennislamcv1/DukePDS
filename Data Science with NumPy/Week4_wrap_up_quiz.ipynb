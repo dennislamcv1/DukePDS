{
 "cells": [
  {
   "attachments": {},
   "cell_type": "markdown",
   "metadata": {},
   "source": [
    "# Week 4 Assessment\n",
    "\n",
    "Questions 1-3 are conceptual questions that you can find in the Week 4 quiz. The exercises here will start on Question 4"
   ]
  },
  {
   "cell_type": "code",
   "execution_count": 1,
   "metadata": {},
   "outputs": [
    {
     "name": "stdout",
     "output_type": "stream",
     "text": [
      "-9\n"
     ]
    }
   ],
   "source": [
    "import numpy as np\n",
    "\n",
    "x = np.array([\n",
    "    [3,6,-2],\n",
    "    [-9,7,4],\n",
    "    [8,2,0]\n",
    "])\n",
    "\n",
    "print(np.min(x))"
   ]
  },
  {
   "cell_type": "code",
   "execution_count": 2,
   "metadata": {},
   "outputs": [
    {
     "name": "stdout",
     "output_type": "stream",
     "text": [
      "0\n"
     ]
    }
   ],
   "source": [
    "x = np.array([\n",
    "    [3,6,-2],\n",
    "    [-9,7,4],\n",
    "    [8,2,0]\n",
    "])\n",
    "\n",
    "y=np.min(x, axis=1)\n",
    "print(y[2])"
   ]
  },
  {
   "cell_type": "code",
   "execution_count": null,
   "metadata": {},
   "outputs": [],
   "source": []
  },
  {
   "attachments": {},
   "cell_type": "markdown",
   "metadata": {},
   "source": [
    "## Practical Exercises\n",
    "\n",
    "### Questions 4 and 5: Random number generation\n",
    "\n",
    "You are given the function below, `gen_random_number`, which is a random number generator from a very specific distribution (the nature of that distribution is not relevant here). You don't know what the data look like, but you want to summarize them in some way, in this case by **finding the mean and standard deviation**. You'll need a lot of samples to get a good estimate, so make sure you use at least one million."
   ]
  },
  {
   "cell_type": "code",
   "execution_count": 3,
   "metadata": {},
   "outputs": [],
   "source": [
    "import numpy as np\n",
    "def gen_random_number(n):\n",
    "    return np.random.gamma(shape=0.5,scale=1.3,size=n)"
   ]
  },
  {
   "cell_type": "code",
   "execution_count": 4,
   "metadata": {},
   "outputs": [
    {
     "name": "stdout",
     "output_type": "stream",
     "text": [
      "Estimated Mean: 0.649817513188198\n",
      "Estimated Standard Deviation: 0.9190944969506496\n"
     ]
    }
   ],
   "source": [
    "# Generate 1 million samples\n",
    "n_samples = 1_000_000\n",
    "samples = gen_random_number(n_samples)\n",
    "\n",
    "# Compute mean and standard deviation\n",
    "mean_estimate = np.mean(samples)\n",
    "std_dev_estimate = np.std(samples, ddof=0)  # Population standard deviation\n",
    "\n",
    "print(f\"Estimated Mean: {mean_estimate}\")\n",
    "print(f\"Estimated Standard Deviation: {std_dev_estimate}\")"
   ]
  },
  {
   "attachments": {},
   "cell_type": "markdown",
   "metadata": {},
   "source": [
    "### Questions 6 and 7: Filtering and querying a dataset"
   ]
  },
  {
   "attachments": {},
   "cell_type": "markdown",
   "metadata": {},
   "source": [
    "In data science we frequently need to filter data as we've previously discussed: remove missing or anomalous values, remove predictors/features from a dataset, remove redundant values, etc. Additionally, we often want to query the data, exploring subsets of the larger dataset that meet certain criteria. We'll see later in this specialization that Pandas offers many excellent tools for doing that, but they're based on principles we've discussed here around matrix and vector operations. We've also discussed summarization strategies in this course. Let's bring all of these pieces together and create some tools for filtering and querying our data.\n",
    "\n",
    "The goal of this exercise is to create a set of functions that can:\n",
    "1. Remove data from a dataset that are greater than a certain value\n",
    "2. Remove data from a dataset that are less than a certain value\n",
    "3. Remove specific values from a dataset\n",
    "4. Remove duplicate values in a dataset\n",
    "\n",
    "Once we have the functions to accomplish this, we'll apply this to a dataset.\n",
    "\n",
    "The first step is to create the functions. To help get you started, some skeleton code is provided below (replace \"pass\" with your code to construct the functions):"
   ]
  },
  {
   "cell_type": "code",
   "execution_count": 5,
   "metadata": {},
   "outputs": [],
   "source": [
    "def remove_greater_than(array, threshold):\n",
    "    '''remove entries in `array' greater than `threshold' '''\n",
    "    return array[array <= threshold]\n",
    "\n",
    "def remove_less_than(array, threshold):\n",
    "    '''remove entries in `array' less than `threshold' '''        \n",
    "    return array[array >= threshold]\n",
    "\n",
    "def remove_if_equal(array, value_list):\n",
    "    '''remove entries in `array' that equal any value in `value_list' '''\n",
    "    return array[~np.isin(array, value_list)]\n",
    "\n",
    "def remove_duplicates(array):\n",
    "    '''remove duplicate entries in `array' leaving only one of each '''\n",
    "    return np.unique(array)"
   ]
  },
  {
   "attachments": {},
   "cell_type": "markdown",
   "metadata": {},
   "source": [
    "Once you have built your functions to filter the data. Generate tests to verify that each function is working properly.\n",
    "\n",
    "Now it's time to apply your function. The dataset that we will use will be a set of integer values ranging from 1 to 1000 (the code is provided below - do NOT change the random seed). "
   ]
  },
  {
   "cell_type": "code",
   "execution_count": 6,
   "metadata": {},
   "outputs": [
    {
     "name": "stdout",
     "output_type": "stream",
     "text": [
      "Original Data: [ 1  2  2  3  4  5  6  7  7  8  9 10]\n",
      "After removing values > 7: [1 2 2 3 4 5 6 7 7]\n",
      "After removing values < 3: [ 3  4  5  6  7  7  8  9 10]\n",
      "After removing values in [2, 4, 6]: [ 1  3  5  7  7  8  9 10]\n",
      "After removing duplicates: [ 1  2  3  4  5  6  7  8  9 10]\n"
     ]
    }
   ],
   "source": [
    "# Example usage:\n",
    "data = np.array([1, 2, 2, 3, 4, 5, 6, 7, 7, 8, 9, 10])\n",
    "\n",
    "# Remove values greater than 7\n",
    "filtered_data1 = remove_greater_than(data, 7)\n",
    "\n",
    "# Remove values less than 3\n",
    "filtered_data2 = remove_less_than(data, 3)\n",
    "\n",
    "# Remove specific values (e.g., 2, 4, and 6)\n",
    "filtered_data3 = remove_if_equal(data, [2, 4, 6])\n",
    "\n",
    "# Remove duplicates\n",
    "filtered_data4 = remove_duplicates(data)\n",
    "\n",
    "print(\"Original Data:\", data)\n",
    "print(\"After removing values > 7:\", filtered_data1)\n",
    "print(\"After removing values < 3:\", filtered_data2)\n",
    "print(\"After removing values in [2, 4, 6]:\", filtered_data3)\n",
    "print(\"After removing duplicates:\", filtered_data4)\n"
   ]
  },
  {
   "cell_type": "code",
   "execution_count": 7,
   "metadata": {},
   "outputs": [
    {
     "name": "stdout",
     "output_type": "stream",
     "text": [
      "[620 345 269 407 328 762 359 747 669 651 209 574 489 878 667  26 472 492\n",
      " 545 261 974 139 651 513 471  85 134 550 633 102  42 745 232 580 720 325\n",
      " 974 174 380 249 786 764 897 160 778 188  28 219 812 759 258 893 328 105\n",
      " 704 907  46 752  31 916 578  58 588 206 338 358 782 953 336 682 640 278\n",
      " 526 324  62 331 751 442 463 605 239 957 522 335 389 179 657 486 565 258\n",
      " 140 997 882 388 866  13 925 854 489 402]\n"
     ]
    }
   ],
   "source": [
    "# Generate the 10000 random numbers [DO NOT MODIFY THIS CODE]\n",
    "import numpy as np\n",
    "np.random.seed(14) # This guarantees the code will generate the same set of random numbers whenever executed\n",
    "random_integers = np.random.randint(1,high=1000, size=(500))\n",
    "\n",
    "print(random_integers[:100]) # Prints the first 100 numbers to get a sense of the data"
   ]
  },
  {
   "attachments": {},
   "cell_type": "markdown",
   "metadata": {},
   "source": [
    "We strongly encourage you to test your code for each of the above four functions on a simple example. For example, when testing the `remove_greater_than()` function, you could input an array `[1,2,20,21,20000]` with a threshold of 20 and verify that the resulting output is `[1,2,20]`.\n",
    "\n",
    "Once you are confident in your function, your goal is to filter the data in the following ways:\n",
    "1. Remove values greater than 800\n",
    "2. Remove values less than 25\n",
    "3. Remove values equal to even integers\n",
    "4. Remove all duplicates\n",
    "\n",
    "Lastly, summarize the remaining data after your filtering is complete by computing the **mean and median** of the remaining data."
   ]
  },
  {
   "cell_type": "code",
   "execution_count": 9,
   "metadata": {},
   "outputs": [
    {
     "name": "stdout",
     "output_type": "stream",
     "text": [
      "Filtered Data: [ 27  29  31  37  41  49  57  77  79  85  87  97 105 111 125 127 129 139\n",
      " 145 153 155 159 163 165 175 179 185 205 207 209 215 219 223 229 233 239\n",
      " 241 249 251 261 267 269 273 287 289 299 303 305 311 313 315 321 325 329\n",
      " 331 333 335 343 345 347 351 357 359 361 371 375 377 385 389 393 395 401\n",
      " 405 407 411 419 423 425 427 431 437 441 447 451 453 457 463 465 471 481\n",
      " 485 489 493 495 503 505 509 513 517 531 537 539 545 547 559 561 563 565\n",
      " 567 577 587 599 605 621 631 633 635 639 641 647 649 651 657 665 667 669\n",
      " 675 677 681 683 693 695 697 699 703 705 707 715 717 723 737 739 745 747\n",
      " 751 753 757 759 769 773 785 797 799]\n",
      "Mean of remaining data: 425.1\n",
      "Median of remaining data: 423\n"
     ]
    }
   ],
   "source": [
    "# Apply the filters\n",
    "filtered_data = remove_greater_than(random_integers, 800)\n",
    "filtered_data = remove_less_than(filtered_data, 25)\n",
    "filtered_data = remove_if_equal(filtered_data, np.arange(2, 801, 2))  # Remove even numbers\n",
    "filtered_data = remove_duplicates(filtered_data)\n",
    "\n",
    "# Compute summary statistics\n",
    "mean_value = np.mean(filtered_data)\n",
    "median_value = np.median(filtered_data)\n",
    "\n",
    "print(\"Filtered Data:\", filtered_data)\n",
    "print(f\"Mean of remaining data: {mean_value:.4g}\")\n",
    "print(f\"Median of remaining data: {median_value:.4g}\")"
   ]
  },
  {
   "attachments": {},
   "cell_type": "markdown",
   "metadata": {},
   "source": [
    "Once you're confident in your solution, head back to the Week 4 Quiz to enter your solutions for the exercises above and answer some conceptual questions about this chapter."
   ]
  }
 ],
 "metadata": {
  "kernelspec": {
   "display_name": "Python 3 (ipykernel)",
   "language": "python",
   "name": "python3"
  },
  "language_info": {
   "codemirror_mode": {
    "name": "ipython",
    "version": 3
   },
   "file_extension": ".py",
   "mimetype": "text/x-python",
   "name": "python",
   "nbconvert_exporter": "python",
   "pygments_lexer": "ipython3",
   "version": "3.10.9"
  },
  "vscode": {
   "interpreter": {
    "hash": "f54e0b9f92ceb50229b3b7ea26b5d02f05ce8845dd8d997c014a0efede4c9c20"
   }
  }
 },
 "nbformat": 4,
 "nbformat_minor": 4
}
