{
    "cells": [
        {
            "cell_type": "markdown",
            "source": [
                "# Playing with Images"
            ],
            "metadata": {}
        },
        {
            "cell_type": "markdown",
            "source": [
                "1. Import the black and white jellyfish image used in the `Matrices as Images` readings and plot it with `plt.imshow`. Note you will also need to import the relevant libraries to make `imshow` usable.\n",
                "2. Using numpy manipulations, make the image lighter. Remember that lighter values are values closer to 1, so you are trying to move values toward 1. Remember also that if you don't use `vmax` or keep your values under 1, `imshow` will assume that white corresponds to the maximium value, so just adding 0.5 to all values won't lighten the image!\n",
                "3. What happens if you transpose an image matrix with `.transpose()`?\n",
                "4. Can you figure out how to crop your image? Crop it down to just contain one jellyfish."
            ],
            "metadata": {}
        }
    ],
    "metadata": {
        "orig_nbformat": 4,
        "language_info": {
            "name": "python"
        }
    },
    "nbformat": 4,
    "nbformat_minor": 2
}